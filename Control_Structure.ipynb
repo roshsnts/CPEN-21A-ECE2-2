{
  "nbformat": 4,
  "nbformat_minor": 0,
  "metadata": {
    "colab": {
      "name": "Control Structure.ipynb",
      "provenance": [],
      "collapsed_sections": [],
      "authorship_tag": "ABX9TyMvazOIipCd1XgjA1U2JHvL",
      "include_colab_link": true
    },
    "kernelspec": {
      "name": "python3",
      "display_name": "Python 3"
    },
    "language_info": {
      "name": "python"
    }
  },
  "cells": [
    {
      "cell_type": "markdown",
      "metadata": {
        "id": "view-in-github",
        "colab_type": "text"
      },
      "source": [
        "<a href=\"https://colab.research.google.com/github/roshsnts/CPEN-21A-ECE2-2/blob/main/Control_Structure.ipynb\" target=\"_parent\"><img src=\"https://colab.research.google.com/assets/colab-badge.svg\" alt=\"Open In Colab\"/></a>"
      ]
    },
    {
      "cell_type": "markdown",
      "metadata": {
        "id": "VAF7zLWBxVVK"
      },
      "source": [
        "##If statements\n",
        "\n"
      ]
    },
    {
      "cell_type": "code",
      "metadata": {
        "colab": {
          "base_uri": "https://localhost:8080/"
        },
        "id": "DrMbNIDOxqO-",
        "outputId": "9d799b1e-10ed-4724-d266-056035d4e25c"
      },
      "source": [
        "a=12\n",
        "b=100\n",
        "if b>a:\n",
        "  print(\"b is greater than a\")\n",
        "  "
      ],
      "execution_count": 3,
      "outputs": [
        {
          "output_type": "stream",
          "name": "stdout",
          "text": [
            "b is greater than a\n"
          ]
        }
      ]
    },
    {
      "cell_type": "markdown",
      "metadata": {
        "id": "UbEwxEcUyi6a"
      },
      "source": [
        "##Elif Statement"
      ]
    },
    {
      "cell_type": "code",
      "metadata": {
        "colab": {
          "base_uri": "https://localhost:8080/"
        },
        "id": "hW4cEeCzygxT",
        "outputId": "77d2963f-ae52-4d14-d1de-4f23fdc44db7"
      },
      "source": [
        "a=12\n",
        "b=100\n",
        "if b>a:\n",
        "  print(\"b is less than a\")\n",
        "elif b>a:\n",
        "  print(\"b is greater than a\")\n"
      ],
      "execution_count": 2,
      "outputs": [
        {
          "output_type": "stream",
          "name": "stdout",
          "text": [
            "b is less than a\n"
          ]
        }
      ]
    },
    {
      "cell_type": "markdown",
      "metadata": {
        "id": "kfZy8OQyzIZO"
      },
      "source": [
        "##Else Statement"
      ]
    },
    {
      "cell_type": "code",
      "metadata": {
        "colab": {
          "base_uri": "https://localhost:8080/"
        },
        "id": "dpDZ3LoWzMO0",
        "outputId": "d8b4138b-dc39-4d12-fe49-32bf25c33a3e"
      },
      "source": [
        "a=12\n",
        "b=12\n",
        "if b>a:\n",
        "  print(\"b is less than a\")\n",
        "elif b>a:\n",
        "  print(\"b is greater than a\")\n",
        "else:\n",
        "  print(\"a is equal than b\")"
      ],
      "execution_count": 4,
      "outputs": [
        {
          "output_type": "stream",
          "name": "stdout",
          "text": [
            "a is equal than b\n"
          ]
        }
      ]
    },
    {
      "cell_type": "markdown",
      "metadata": {
        "id": "_N9rx41jzk-9"
      },
      "source": [
        "##Short Hand If...Else"
      ]
    },
    {
      "cell_type": "code",
      "metadata": {
        "colab": {
          "base_uri": "https://localhost:8080/"
        },
        "id": "gZsU0EqCzj4x",
        "outputId": "2077dc90-5568-45b1-d8ad-e14ddec334a0"
      },
      "source": [
        "a=2\n",
        "b=330\n",
        "print(\"A\") if a>b else print(\"B\")"
      ],
      "execution_count": 9,
      "outputs": [
        {
          "output_type": "stream",
          "name": "stdout",
          "text": [
            "B\n"
          ]
        }
      ]
    },
    {
      "cell_type": "markdown",
      "metadata": {
        "id": "s1SMUN1v0co8"
      },
      "source": [
        "##And-both Conditions are True"
      ]
    },
    {
      "cell_type": "code",
      "metadata": {
        "colab": {
          "base_uri": "https://localhost:8080/"
        },
        "id": "0x6lqZZ60-Vv",
        "outputId": "15801c53-8d57-47a4-ee62-a4762c9b9062"
      },
      "source": [
        "a=200\n",
        "b=33\n",
        "c=500\n",
        "\n",
        "if a>b and c>a:\n",
        "  print(\"The conditions need to be True\")"
      ],
      "execution_count": 17,
      "outputs": [
        {
          "output_type": "stream",
          "name": "stdout",
          "text": [
            "The conditions need to be True\n"
          ]
        }
      ]
    },
    {
      "cell_type": "markdown",
      "metadata": {
        "id": "FOoI_f6l2MIN"
      },
      "source": [
        "##Or Conditons"
      ]
    },
    {
      "cell_type": "code",
      "metadata": {
        "colab": {
          "base_uri": "https://localhost:8080/"
        },
        "id": "wd00hW912KrK",
        "outputId": "5ca73a4d-9557-4efe-f219-49c02b3d26fe"
      },
      "source": [
        "a=200\n",
        "b=33\n",
        "c=500\n",
        "\n",
        "if a>b or c<a:\n",
        "  print(\"One of the conditions is True\")\n"
      ],
      "execution_count": 22,
      "outputs": [
        {
          "output_type": "stream",
          "name": "stdout",
          "text": [
            "One of the conditions is True\n"
          ]
        }
      ]
    },
    {
      "cell_type": "markdown",
      "metadata": {
        "id": "6JLYq-Wm2tYS"
      },
      "source": [
        "##Nested If"
      ]
    },
    {
      "cell_type": "code",
      "metadata": {
        "colab": {
          "base_uri": "https://localhost:8080/"
        },
        "id": "x-R7_ckc2y71",
        "outputId": "944ec924-3280-438b-b75c-4522d8291950"
      },
      "source": [
        "x=41\n",
        "\n",
        "if x>10:\n",
        "  print(\"Above 10\")\n",
        "  if x>20:\n",
        "    print(\"Above 20\")\n",
        "  else:\n",
        "    print(\"Not above 20\")"
      ],
      "execution_count": 24,
      "outputs": [
        {
          "output_type": "stream",
          "name": "stdout",
          "text": [
            "Above 10\n",
            "Above 20\n"
          ]
        }
      ]
    },
    {
      "cell_type": "markdown",
      "metadata": {
        "id": "QeCMfBDh4IIX"
      },
      "source": [
        "##Nested If...Else"
      ]
    },
    {
      "cell_type": "code",
      "metadata": {
        "colab": {
          "base_uri": "https://localhost:8080/"
        },
        "id": "6nqJOme94O_R",
        "outputId": "ec6468df-a36a-4634-8f1c-18a452e40c30"
      },
      "source": [
        "x=41\n",
        "\n",
        "if x>10:\n",
        "  print(\"Above 10\")\n",
        "  if x>20:\n",
        "    print(\"Above 20\")\n",
        "  else:\n",
        "    print(\"Not above 20\")\n",
        "else:\n",
        "  print(\"Below 10\")"
      ],
      "execution_count": 27,
      "outputs": [
        {
          "output_type": "stream",
          "name": "stdout",
          "text": [
            "Above 10\n",
            "Above 20\n"
          ]
        }
      ]
    },
    {
      "cell_type": "markdown",
      "metadata": {
        "id": "Vzc5Skn84yJd"
      },
      "source": [
        "##Example 1\n",
        "write a program that determines if the input age is qualified to vote or not. The qualifying age is 18 years old above."
      ]
    },
    {
      "cell_type": "code",
      "metadata": {
        "colab": {
          "base_uri": "https://localhost:8080/"
        },
        "id": "Yl8es_hl41yr",
        "outputId": "039977a3-a614-4567-b77c-f1859f42639d"
      },
      "source": [
        "age=int(input(\"Enter your age\"))\n",
        "\n",
        "if age>=18:\n",
        "  print(\"Qualified to Vote\")\n",
        "elif age==17:\n",
        "    print(\"Wait one more year\")\n",
        "else:\n",
        "  print(\"Not Qualified to Vote\")"
      ],
      "execution_count": 55,
      "outputs": [
        {
          "output_type": "stream",
          "name": "stdout",
          "text": [
            "Enter your age17\n",
            "Wait one more year\n"
          ]
        }
      ]
    },
    {
      "cell_type": "markdown",
      "metadata": {
        "id": "Tl2wXKZe7lly"
      },
      "source": [
        "##Example 2\n",
        "Write a program that determines if the input number is POSITIVE or NEGATIVE. Consider 0 as positive (considering that it contains  no negative sign)."
      ]
    },
    {
      "cell_type": "code",
      "metadata": {
        "colab": {
          "base_uri": "https://localhost:8080/"
        },
        "id": "K8YMzcH99nGZ",
        "outputId": "807ab47c-a327-4392-e81a-a1302908e881"
      },
      "source": [
        "number=int(input(\"Enter a number\"))\n",
        "\n",
        "if number>0:\n",
        "  print(\"You entered a POSITIVE number\")\n",
        "elif number==0:\n",
        "  print(\"You entered ZERO 0\")\n",
        "else:\n",
        "  print(\"You entered a NEGATIVE number\")"
      ],
      "execution_count": 56,
      "outputs": [
        {
          "output_type": "stream",
          "name": "stdout",
          "text": [
            "Enter a number2\n",
            "You entered a POSITIVE number\n"
          ]
        }
      ]
    },
    {
      "cell_type": "markdown",
      "metadata": {
        "id": "xw-XWfdj-JWi"
      },
      "source": [
        "##Example 3\n",
        "Write a program to determine if the grades"
      ]
    }
  ]
}