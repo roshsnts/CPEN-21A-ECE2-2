{
  "nbformat": 4,
  "nbformat_minor": 0,
  "metadata": {
    "colab": {
      "name": "Lab 1.ipynb",
      "provenance": [],
      "authorship_tag": "ABX9TyPwZVB5B/Gg3B2imCfiR/4s",
      "include_colab_link": true
    },
    "kernelspec": {
      "name": "python3",
      "display_name": "Python 3"
    },
    "language_info": {
      "name": "python"
    }
  },
  "cells": [
    {
      "cell_type": "markdown",
      "metadata": {
        "id": "view-in-github",
        "colab_type": "text"
      },
      "source": [
        "<a href=\"https://colab.research.google.com/github/roshsnts/CPEN-21A-ECE2-2/blob/main/Lab_1.ipynb\" target=\"_parent\"><img src=\"https://colab.research.google.com/assets/colab-badge.svg\" alt=\"Open In Colab\"/></a>"
      ]
    },
    {
      "cell_type": "markdown",
      "metadata": {
        "id": "riL8G7DVdYXm"
      },
      "source": [
        "#LABORATORY 1"
      ]
    },
    {
      "cell_type": "code",
      "metadata": {
        "colab": {
          "base_uri": "https://localhost:8080/"
        },
        "id": "LSIMYDZGdcy8",
        "outputId": "8aebb4a9-de49-4462-9388-c32d89efd0ac"
      },
      "source": [
        "print (\"Welcome to Python Programming\")"
      ],
      "execution_count": 26,
      "outputs": [
        {
          "output_type": "stream",
          "name": "stdout",
          "text": [
            "Welcome to Python Programming\n"
          ]
        }
      ]
    },
    {
      "cell_type": "code",
      "metadata": {
        "colab": {
          "base_uri": "https://localhost:8080/"
        },
        "id": "9N2Q_9IkkY30",
        "outputId": "23e6406f-9db6-4418-e3a7-4c66a3fa6291"
      },
      "source": [
        "name = \"Rosh Stephen E. Santos\"\n",
        "address = \"054 Trece Martires St. Samonte Park, Cavite City, Cavite\"\n",
        "age = \"20\"\n",
        "print(\"Name:\" + name)\n",
        "print(\"Address:\" + address)\n",
        "print(\"Age:\" + age)"
      ],
      "execution_count": 25,
      "outputs": [
        {
          "output_type": "stream",
          "name": "stdout",
          "text": [
            "Name:Rosh Stephen E. Santos\n",
            "Address:054 Trece Martires St. Samonte Park, Cavite City, Cavite\n",
            "Age:20\n"
          ]
        }
      ]
    }
  ]
}