{
  "nbformat": 4,
  "nbformat_minor": 0,
  "metadata": {
    "colab": {
      "name": "Final Exam.ipynb",
      "provenance": [],
      "collapsed_sections": [],
      "authorship_tag": "ABX9TyOrv7Vnrs86FKTeEMlaHpCe",
      "include_colab_link": true
    },
    "kernelspec": {
      "name": "python3",
      "display_name": "Python 3"
    },
    "language_info": {
      "name": "python"
    }
  },
  "cells": [
    {
      "cell_type": "markdown",
      "metadata": {
        "id": "view-in-github",
        "colab_type": "text"
      },
      "source": [
        "<a href=\"https://colab.research.google.com/github/roshsnts/CPEN-21A-ECE2-2/blob/main/Final_Exam.ipynb\" target=\"_parent\"><img src=\"https://colab.research.google.com/assets/colab-badge.svg\" alt=\"Open In Colab\"/></a>"
      ]
    },
    {
      "cell_type": "markdown",
      "source": [
        "##PROBLEM STATEMENT 1.\n",
        "Create a Python program that will produce an output of sum of 10 numbers less than 5\n",
        "using FOR LOOP statement. (30 points)"
      ],
      "metadata": {
        "id": "3FWNiN17vKLi"
      }
    },
    {
      "cell_type": "code",
      "source": [
        "numbers = [1, 2, 3, 4, 5, 6, 7, 8, 9, 10]\n",
        "summation=0\n",
        "for x in numbers:\n",
        "    if x<5:\n",
        "        summation=summation+x\n",
        "print(\"summation of these set of numbers\",numbers, \"that are less than 5\", \"is\", summation)    \n"
      ],
      "metadata": {
        "colab": {
          "base_uri": "https://localhost:8080/"
        },
        "id": "O8urjM_wgUQI",
        "outputId": "da989abb-6186-474f-fdfc-d518c73a7f84"
      },
      "execution_count": null,
      "outputs": [
        {
          "output_type": "stream",
          "name": "stdout",
          "text": [
            "summation of these set of numbers [1, 2, 3, 4, 5, 6, 7, 8, 9, 10] that are less than 5 is 10\n"
          ]
        }
      ]
    },
    {
      "cell_type": "markdown",
      "source": [
        "##PROBLEM STATEMENT 2.\n",
        "Create a Python program that will produce accept five numbers and determine the sum of\n",
        "first and last number among the five numbers entered using WHILE LOOP (35 points)"
      ],
      "metadata": {
        "id": "kEb0NSEfxhRJ"
      }
    },
    {
      "cell_type": "code",
      "source": [
        "n = 1\n",
        "summ = 0\n",
        "\n",
        "while n < 6:\n",
        "    number = int(input(\"Enter 5 numbers: \"))\n",
        "    if n==1 or n==5:\n",
        "        summ = summ + number\n",
        "    n=n+1\n",
        "print(\"The sum of first and last number among the 5 numbers you entered is:\",summ)\n"
      ],
      "metadata": {
        "colab": {
          "base_uri": "https://localhost:8080/"
        },
        "id": "v4z44LcGvdhP",
        "outputId": "fe60fcb5-9349-45b7-91a3-be717280cdc6"
      },
      "execution_count": 1,
      "outputs": [
        {
          "output_type": "stream",
          "name": "stdout",
          "text": [
            "Enter 5 numbers: 2\n",
            "Enter 5 numbers: 6\n",
            "Enter 5 numbers: 8\n",
            "Enter 5 numbers: 9\n",
            "Enter 5 numbers: 9\n",
            "The sum of first and last number among the 5 numbers you entered is: 11\n"
          ]
        }
      ]
    },
    {
      "cell_type": "markdown",
      "source": [
        "##PROBLEM STATEMENT 3.\n",
        "Create a Python program to calculate student grades. It accepts a numerical grade as input and it will display the character grade as output based on the given scale: (Use Nested-IF-Else statement)\t(35 points)"
      ],
      "metadata": {
        "id": "cF287C3LxnoN"
      }
    },
    {
      "cell_type": "code",
      "source": [
        "grade = int(input(\"Enter your grade: \"))\n",
        "\n",
        "if grade>=60:\n",
        "  if grade>=70:\n",
        "    if grade>=80:\n",
        "      if grade>=90:\n",
        "        print(\"A\")\n",
        "      else:\n",
        "        print(\"B\")\n",
        "    else:\n",
        "      print(\"C\")\n",
        "  else:\n",
        "    print(\"D\")\n",
        "else:\n",
        "  print(\"F\")\n"
      ],
      "metadata": {
        "colab": {
          "base_uri": "https://localhost:8080/"
        },
        "id": "7gwJRKSuxpS6",
        "outputId": "550b9b89-5a01-4b8d-89b8-743162dc7237"
      },
      "execution_count": null,
      "outputs": [
        {
          "output_type": "stream",
          "name": "stdout",
          "text": [
            "Enter your grade: 98\n",
            "A\n"
          ]
        }
      ]
    }
  ]
}