{
  "nbformat": 4,
  "nbformat_minor": 0,
  "metadata": {
    "colab": {
      "name": "Midterm Exam.ipynb",
      "provenance": [],
      "collapsed_sections": [],
      "authorship_tag": "ABX9TyNipc77OAbWVwknUzl4znaF",
      "include_colab_link": true
    },
    "kernelspec": {
      "name": "python3",
      "display_name": "Python 3"
    },
    "language_info": {
      "name": "python"
    }
  },
  "cells": [
    {
      "cell_type": "markdown",
      "metadata": {
        "id": "view-in-github",
        "colab_type": "text"
      },
      "source": [
        "<a href=\"https://colab.research.google.com/github/roshsnts/CPEN-21A-ECE2-2/blob/main/Midterm_Exam.ipynb\" target=\"_parent\"><img src=\"https://colab.research.google.com/assets/colab-badge.svg\" alt=\"Open In Colab\"/></a>"
      ]
    },
    {
      "cell_type": "markdown",
      "metadata": {
        "id": "mhz7GDrW69jl"
      },
      "source": [
        "#MIDTERM EXAM"
      ]
    },
    {
      "cell_type": "markdown",
      "metadata": {
        "id": "4BHoLmfO7W2H"
      },
      "source": [
        "###PROBLEM STATEMENT 1"
      ]
    },
    {
      "cell_type": "code",
      "metadata": {
        "colab": {
          "base_uri": "https://localhost:8080/"
        },
        "id": "Q5pf0jXhsyzg",
        "outputId": "587489bb-6e93-4757-ca9e-6f339c6939bb"
      },
      "source": [
        "print(\"Name:\"+\"Rosh Stephen E.Santos\")\n",
        "print(\"Studen Number:\"+ \"202014759\")\n",
        "print(\"Age:\"+ \"20\")\n",
        "print(\"Birthday:\"+\"September 26, 2021\")\n",
        "print(\"Adress:\"+ \"054 Trece Martires St., Samonte Park, Cavite City, Cavite\")\n",
        "print(\"Course:\"+ \"Bachelor of Science in Electronics and Communications Engineering (BSECE)\")\n",
        "print(\"GWA:\"+ \"1.33\")"
      ],
      "execution_count": 39,
      "outputs": [
        {
          "output_type": "stream",
          "name": "stdout",
          "text": [
            "Name:Rosh Stephen E.Santos\n",
            "Studen Number:202014759\n",
            "Age:20\n",
            "Birthday:September 26, 2021\n",
            "Adress:054 Trece Martires St., Samonte Park, Cavite City, Cavite\n",
            "Course:Bachelor of Science in Electronics and Communications Engineering (BSECE)\n",
            "GWA:1.33\n"
          ]
        }
      ]
    },
    {
      "cell_type": "markdown",
      "metadata": {
        "id": "PQtlz3Tg7CdB"
      },
      "source": [
        "###PROBLEM STATEMENT 2"
      ]
    },
    {
      "cell_type": "code",
      "metadata": {
        "colab": {
          "base_uri": "https://localhost:8080/"
        },
        "id": "Xds6TN9gzQet",
        "outputId": "7fb7774d-7f4d-4aa1-d230-bb4c926d7aa4"
      },
      "source": [
        "n = 4\n",
        "answ=\"Y\"\n",
        "\n",
        "print(2<n) and (n>6)\n",
        "print(2<n) or (n==6)\n",
        "print(not(2<n or n==6))\n",
        "print(not(n<6))\n",
        "print(answ==\"Y\" or answ==\"y\")\n",
        "print(answ==\"Y\") and (answ==\"y\")\n",
        "print(not(answ==\"y\"))\n",
        "print((2<n)and(n==5+1)) or (answ==\"No\")\n",
        "print((n==2)and(n==7)) or (answ==\"Y\")\n",
        "print(n==2) and ((n==7) or(answ==\"Y\"))\n"
      ],
      "execution_count": 51,
      "outputs": [
        {
          "output_type": "stream",
          "name": "stdout",
          "text": [
            "True\n",
            "True\n",
            "False\n",
            "False\n",
            "True\n",
            "True\n",
            "True\n",
            "False\n",
            "False\n",
            "False\n"
          ]
        }
      ]
    },
    {
      "cell_type": "markdown",
      "metadata": {
        "id": "6rUVEO4c7Rpj"
      },
      "source": [
        "###PROBLEM STATEMENT 3"
      ]
    },
    {
      "cell_type": "code",
      "metadata": {
        "colab": {
          "base_uri": "https://localhost:8080/"
        },
        "id": "N2GBZRHlxOPZ",
        "outputId": "0a4b0b05-917c-4f15-a76a-9dd8b6e18911"
      },
      "source": [
        "x = 2 \n",
        "y = -3\n",
        "w = 7\n",
        "z = -10\n",
        "\n",
        "print(x/y)\n",
        "print(w/y/x)\n",
        "print(z/y%x)\n",
        "print(x%-y*w)\n",
        "print(x%y)\n",
        "print(z%w-y/x*5+5)\n",
        "print(9-x%(2+y))\n",
        "print(z//w)\n",
        "print((2+y)**2)\n",
        "print(w/x*2)"
      ],
      "execution_count": 63,
      "outputs": [
        {
          "output_type": "stream",
          "name": "stdout",
          "text": [
            "-0.6666666666666666\n",
            "-1.1666666666666667\n",
            "1.3333333333333335\n",
            "14\n",
            "-1\n",
            "16.5\n",
            "9\n",
            "-2\n",
            "1\n",
            "7.0\n"
          ]
        }
      ]
    }
  ]
}